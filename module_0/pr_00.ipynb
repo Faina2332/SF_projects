{
 "cells": [
  {
   "cell_type": "code",
   "execution_count": 8,
   "metadata": {},
   "outputs": [],
   "source": [
    "def int_r(num):  #функция для арифметического округления числа\n",
    "    num = int(num + (0.5 if num > 0 else -0.5))\n",
    "    return num"
   ]
  },
  {
   "cell_type": "code",
   "execution_count": 55,
   "metadata": {},
   "outputs": [],
   "source": [
    "import numpy as np\n",
    "number = np.random.randint(1,(x+1))      #загадываем число от 1 до x\n",
    "def game_core_v4(number):\n",
    "    '''Сначала устанавливаем любое random число, а потом уменьшаем или увеличиваем его \n",
    "                в зависимости от того, больше оно или меньше нужного.\n",
    "            Функция принимает загаданное число и возвращает число попыток'''\n",
    "    count = 1\n",
    "    predict = np.random.randint(1,(x+1)) #предполагаемое число от 1 до x\n",
    "    max_p = x\n",
    "    min_p = 1\n",
    "    predict_ls = []\n",
    "    while number != predict :\n",
    "        count+=1  \n",
    "        \n",
    "        if number < predict:                #проверяем больше или меньше число\n",
    "            max_p = predict                 #сохраняем значение максимального предполагаемого\n",
    "            if int_r(predict / 2) < min_p:  #проверяем перешли ли мы минимальное значение\n",
    "                predict = min_p + 1         #если да то предполагаемое число мин+1\n",
    "            else:\n",
    "                predict = int_r(predict / 2)#если нет делим предполагаемое число пополам\n",
    "                        \n",
    "        elif number > predict:\n",
    "            min_p = predict                 #сохраняем значение минимального предполагаемого\n",
    "            if (predict + int_r((max_p - predict) / 2)) > max_p: #проверяем вышло ли предполагаемое число за заданный диапазон\n",
    "                predict = max_p - 1         #если да то предполагаемое число макс-1  \n",
    "            else:\n",
    "                predict = predict + int_r((max_p - predict) / 2) #если нет предполагаемое число увеличиваем\n",
    "              \n",
    "    return(count) # выход из цикла, если угадали\n"
   ]
  },
  {
   "cell_type": "code",
   "execution_count": 59,
   "metadata": {},
   "outputs": [],
   "source": [
    "import numpy as np\n",
    "number = np.random.randint(1,(x+1))      #загадываем число от 1 до x\n",
    "def game_core_v5(number):\n",
    "    '''Сначала устанавливаем любое random число, а потом уменьшаем или увеличиваем его \n",
    "                в зависимости от того, больше оно или меньше нужного.\n",
    "            Функция принимает загаданное число и возвращает число попыток'''\n",
    "    count = 1\n",
    "    predict = np.random.randint(1,(x+1)) #предполагаемое число от 1 до x\n",
    "    max_p = x\n",
    "    min_p = 1\n",
    "    predict_ls = []\n",
    "    while number != predict :\n",
    "        count+=1  \n",
    "        \n",
    "        if number < predict:                #проверяем больше или меньше число\n",
    "            max_p = predict                 #сохраняем значение максимального предполагаемого\n",
    "            if int_r(predict / 2) < min_p:  #проверяем перешли ли мы минимальное значение\n",
    "                predict = min_p + 1         #если да то предполагаемое число мин+1\n",
    "            else:\n",
    "                predict = int_r(predict / 2)#если нет делим предполагаемое число пополам\n",
    "                        \n",
    "        elif number > predict:\n",
    "            min_p = predict                 #сохраняем значение минимального предполагаемого\n",
    "            if (predict + int_r((max_p - predict) / 2)) > max_p: #проверяем вышло ли предполагаемое число за заданный диапазон\n",
    "                predict = max_p - 1         #если да то предполагаемое число макс-1  \n",
    "            else:\n",
    "                predict = predict + int_r((max_p - predict) / 2) #если нет предполагаемое число увеличиваем\n",
    "        predict_ls.append(predict)      \n",
    "    return(print(number, predict_ls, count)) # выход из цикла, если угадали\n"
   ]
  },
  {
   "cell_type": "code",
   "execution_count": 63,
   "metadata": {},
   "outputs": [],
   "source": [
    "\n",
    "def score_game_1(game_core_v3):\n",
    "    '''Запускаем игру 1000 раз, чтобы узнать, как быстро игра угадывает число'''\n",
    "    count_ls = []\n",
    "    np.random.seed(1)  # фиксируем RANDOM SEED, чтобы ваш эксперимент был воспроизводим!\n",
    "    random_array = np.random.randint(1,(x+1), size=(10))\n",
    "    for number in random_array:\n",
    "        count_ls.append(game_core_v3(number))\n",
    "    score = int(np.sum(count_ls)/10)\n",
    "    print(f\"Ваш алгоритм угадывает число в среднем за {score} попыток\")\n",
    "    return(score)"
   ]
  },
  {
   "cell_type": "code",
   "execution_count": 64,
   "metadata": {},
   "outputs": [
    {
     "name": "stdout",
     "output_type": "stream",
     "text": [
      "Введите диапазон (Например 100) 100\n",
      "38 [39, 20, 30, 35, 37, 38] 7\n",
      "13 [36, 18, 9, 14, 10, 12, 13] 8\n",
      "73 [54, 77, 55, 66, 72, 75, 73] 8\n",
      "10 [13, 7, 10] 4\n",
      "76 [76] 2\n",
      "6 [11, 6] 3\n",
      "80 [60, 80] 3\n",
      "65 [43, 64, 75, 65] 5\n",
      "17 [56, 28, 14, 21, 15, 18, 16, 17] 9\n",
      "2 [15, 8, 4, 2] 5\n"
     ]
    },
    {
     "ename": "TypeError",
     "evalue": "unsupported operand type(s) for +: 'NoneType' and 'NoneType'",
     "output_type": "error",
     "traceback": [
      "\u001b[1;31m---------------------------------------------------------------------------\u001b[0m",
      "\u001b[1;31mTypeError\u001b[0m                                 Traceback (most recent call last)",
      "\u001b[1;32m<ipython-input-64-0cfd390b884c>\u001b[0m in \u001b[0;36m<module>\u001b[1;34m\u001b[0m\n\u001b[0;32m      1\u001b[0m \u001b[0mx\u001b[0m\u001b[1;33m=\u001b[0m\u001b[0mint\u001b[0m\u001b[1;33m(\u001b[0m\u001b[0minput\u001b[0m\u001b[1;33m(\u001b[0m\u001b[1;34m'Введите диапазон (Например 100) '\u001b[0m\u001b[1;33m)\u001b[0m\u001b[1;33m)\u001b[0m\u001b[1;33m\u001b[0m\u001b[1;33m\u001b[0m\u001b[0m\n\u001b[1;32m----> 2\u001b[1;33m \u001b[0mscore_game_1\u001b[0m\u001b[1;33m(\u001b[0m\u001b[0mgame_core_v5\u001b[0m\u001b[1;33m)\u001b[0m\u001b[1;33m\u001b[0m\u001b[1;33m\u001b[0m\u001b[0m\n\u001b[0m",
      "\u001b[1;32m<ipython-input-63-87135c15eb00>\u001b[0m in \u001b[0;36mscore_game_1\u001b[1;34m(game_core_v3)\u001b[0m\n\u001b[0;32m      6\u001b[0m     \u001b[1;32mfor\u001b[0m \u001b[0mnumber\u001b[0m \u001b[1;32min\u001b[0m \u001b[0mrandom_array\u001b[0m\u001b[1;33m:\u001b[0m\u001b[1;33m\u001b[0m\u001b[1;33m\u001b[0m\u001b[0m\n\u001b[0;32m      7\u001b[0m         \u001b[0mcount_ls\u001b[0m\u001b[1;33m.\u001b[0m\u001b[0mappend\u001b[0m\u001b[1;33m(\u001b[0m\u001b[0mgame_core_v3\u001b[0m\u001b[1;33m(\u001b[0m\u001b[0mnumber\u001b[0m\u001b[1;33m)\u001b[0m\u001b[1;33m)\u001b[0m\u001b[1;33m\u001b[0m\u001b[1;33m\u001b[0m\u001b[0m\n\u001b[1;32m----> 8\u001b[1;33m     \u001b[0mscore\u001b[0m \u001b[1;33m=\u001b[0m \u001b[0mint\u001b[0m\u001b[1;33m(\u001b[0m\u001b[0mnp\u001b[0m\u001b[1;33m.\u001b[0m\u001b[0msum\u001b[0m\u001b[1;33m(\u001b[0m\u001b[0mcount_ls\u001b[0m\u001b[1;33m)\u001b[0m\u001b[1;33m/\u001b[0m\u001b[1;36m10\u001b[0m\u001b[1;33m)\u001b[0m\u001b[1;33m\u001b[0m\u001b[1;33m\u001b[0m\u001b[0m\n\u001b[0m\u001b[0;32m      9\u001b[0m     \u001b[0mprint\u001b[0m\u001b[1;33m(\u001b[0m\u001b[1;34mf\"Ваш алгоритм угадывает число в среднем за {score} попыток\"\u001b[0m\u001b[1;33m)\u001b[0m\u001b[1;33m\u001b[0m\u001b[1;33m\u001b[0m\u001b[0m\n\u001b[0;32m     10\u001b[0m     \u001b[1;32mreturn\u001b[0m\u001b[1;33m(\u001b[0m\u001b[0mscore\u001b[0m\u001b[1;33m)\u001b[0m\u001b[1;33m\u001b[0m\u001b[1;33m\u001b[0m\u001b[0m\n",
      "\u001b[1;32m<__array_function__ internals>\u001b[0m in \u001b[0;36msum\u001b[1;34m(*args, **kwargs)\u001b[0m\n",
      "\u001b[1;32mC:\\anaconda3\\lib\\site-packages\\numpy\\core\\fromnumeric.py\u001b[0m in \u001b[0;36msum\u001b[1;34m(a, axis, dtype, out, keepdims, initial, where)\u001b[0m\n\u001b[0;32m   2227\u001b[0m \u001b[1;33m\u001b[0m\u001b[0m\n\u001b[0;32m   2228\u001b[0m     return _wrapreduction(a, np.add, 'sum', axis, dtype, out, keepdims=keepdims,\n\u001b[1;32m-> 2229\u001b[1;33m                           initial=initial, where=where)\n\u001b[0m\u001b[0;32m   2230\u001b[0m \u001b[1;33m\u001b[0m\u001b[0m\n\u001b[0;32m   2231\u001b[0m \u001b[1;33m\u001b[0m\u001b[0m\n",
      "\u001b[1;32mC:\\anaconda3\\lib\\site-packages\\numpy\\core\\fromnumeric.py\u001b[0m in \u001b[0;36m_wrapreduction\u001b[1;34m(obj, ufunc, method, axis, dtype, out, **kwargs)\u001b[0m\n\u001b[0;32m     88\u001b[0m                 \u001b[1;32mreturn\u001b[0m \u001b[0mreduction\u001b[0m\u001b[1;33m(\u001b[0m\u001b[0maxis\u001b[0m\u001b[1;33m=\u001b[0m\u001b[0maxis\u001b[0m\u001b[1;33m,\u001b[0m \u001b[0mout\u001b[0m\u001b[1;33m=\u001b[0m\u001b[0mout\u001b[0m\u001b[1;33m,\u001b[0m \u001b[1;33m**\u001b[0m\u001b[0mpasskwargs\u001b[0m\u001b[1;33m)\u001b[0m\u001b[1;33m\u001b[0m\u001b[1;33m\u001b[0m\u001b[0m\n\u001b[0;32m     89\u001b[0m \u001b[1;33m\u001b[0m\u001b[0m\n\u001b[1;32m---> 90\u001b[1;33m     \u001b[1;32mreturn\u001b[0m \u001b[0mufunc\u001b[0m\u001b[1;33m.\u001b[0m\u001b[0mreduce\u001b[0m\u001b[1;33m(\u001b[0m\u001b[0mobj\u001b[0m\u001b[1;33m,\u001b[0m \u001b[0maxis\u001b[0m\u001b[1;33m,\u001b[0m \u001b[0mdtype\u001b[0m\u001b[1;33m,\u001b[0m \u001b[0mout\u001b[0m\u001b[1;33m,\u001b[0m \u001b[1;33m**\u001b[0m\u001b[0mpasskwargs\u001b[0m\u001b[1;33m)\u001b[0m\u001b[1;33m\u001b[0m\u001b[1;33m\u001b[0m\u001b[0m\n\u001b[0m\u001b[0;32m     91\u001b[0m \u001b[1;33m\u001b[0m\u001b[0m\n\u001b[0;32m     92\u001b[0m \u001b[1;33m\u001b[0m\u001b[0m\n",
      "\u001b[1;31mTypeError\u001b[0m: unsupported operand type(s) for +: 'NoneType' and 'NoneType'"
     ]
    }
   ],
   "source": [
    "x=int(input('Введите диапазон (Например 100) '))\n",
    "score_game_1(game_core_v5)"
   ]
  },
  {
   "cell_type": "code",
   "execution_count": null,
   "metadata": {},
   "outputs": [],
   "source": []
  },
  {
   "cell_type": "code",
   "execution_count": null,
   "metadata": {},
   "outputs": [],
   "source": []
  }
 ],
 "metadata": {
  "kernelspec": {
   "display_name": "Python 3",
   "language": "python",
   "name": "python3"
  },
  "language_info": {
   "codemirror_mode": {
    "name": "ipython",
    "version": 3
   },
   "file_extension": ".py",
   "mimetype": "text/x-python",
   "name": "python",
   "nbconvert_exporter": "python",
   "pygments_lexer": "ipython3",
   "version": "3.7.6"
  }
 },
 "nbformat": 4,
 "nbformat_minor": 4
}
