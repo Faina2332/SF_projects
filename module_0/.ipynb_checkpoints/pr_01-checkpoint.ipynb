{
 "cells": [
  {
   "cell_type": "code",
   "execution_count": 8,
   "metadata": {},
   "outputs": [],
   "source": [
    "def int_r(num):  #функция для арифметического округления числа\n",
    "    num = int(num + (0.5 if num > 0 else -0.5))\n",
    "    return num"
   ]
  },
  {
   "cell_type": "code",
   "execution_count": 39,
   "metadata": {},
   "outputs": [],
   "source": [
    "import numpy as np\n",
    "number = np.random.randint(1,(x+1))      #загадываем число от 1 до x\n",
    "def game_core_v4(number):\n",
    "    '''Сначала устанавливаем любое random число, а потом уменьшаем или увеличиваем его \n",
    "                в зависимости от того, больше оно или меньше нужного.\n",
    "            Функция принимает загаданное число и возвращает число попыток'''\n",
    "    count = 1\n",
    "    predict = np.random.randint(1,(x+1)) #предполагаемое число от 1 до x\n",
    "    max_p = x\n",
    "    min_p = 1\n",
    "    predict_ls = []\n",
    "    while number != predict :\n",
    "        count+=1  \n",
    "        \n",
    "        if number < predict:                #проверяем больше или меньше число\n",
    "            max_p = predict                 #сохраняем значение максимального предполагаемого\n",
    "            if int_r(predict / 2) < min_p:  #проверяем перешли ли мы минимальное значение\n",
    "                predict = min_p + 1         #если да то предполагаемое число мин+1\n",
    "            else:\n",
    "                predict = int_r(predict / 2)#если нет делим предполагаемое число пополам\n",
    "                        \n",
    "        elif number > predict:\n",
    "            min_p = predict                 #сохраняем значение минимального предполагаемого\n",
    "            if (predict + int_r((max_p - predict) / 2)) > max_p: #проверяем вышло ли предполагаемое число за заданный диапазон\n",
    "                predict = max_p - 1         #если да то предполагаемое число макс-1  \n",
    "            else:\n",
    "                predict = predict + int_r((max_p - predict) / 2) #если нет предполагаемое число увеличиваем\n",
    "              \n",
    "    return(count) # выход из цикла, если угадали\n"
   ]
  },
  {
   "cell_type": "code",
   "execution_count": 44,
   "metadata": {},
   "outputs": [],
   "source": [
    "\n",
    "def score_game_1(game_core_v3):\n",
    "    '''Запускаем игру 1000 раз, чтобы узнать, как быстро игра угадывает число'''\n",
    "    count_ls = []\n",
    "    np.random.seed(1)  # фиксируем RANDOM SEED, чтобы ваш эксперимент был воспроизводим!\n",
    "    random_array = np.random.randint(1,(x+1), size=(1000))\n",
    "    for number in random_array:\n",
    "        count_ls.append(game_core_v3(number))\n",
    "    score = int(np.sum(count_ls)/1000)\n",
    "    print(f\"Ваш алгоритм угадывает число в среднем за {score} попыток\")\n",
    "    return(score)"
   ]
  },
  {
   "cell_type": "code",
   "execution_count": 52,
   "metadata": {},
   "outputs": [
    {
     "name": "stdout",
     "output_type": "stream",
     "text": [
      "Введите диапазон (Например 100) 100\n",
      "Ваш алгоритм угадывает число в среднем за 5 попыток\n"
     ]
    },
    {
     "data": {
      "text/plain": [
       "5"
      ]
     },
     "execution_count": 52,
     "metadata": {},
     "output_type": "execute_result"
    }
   ],
   "source": [
    "x=int(input('Введите диапазон (Например 100) '))\n",
    "score_game_1(game_core_v4)"
   ]
  },
  {
   "cell_type": "code",
   "execution_count": null,
   "metadata": {},
   "outputs": [],
   "source": []
  }
 ],
 "metadata": {
  "kernelspec": {
   "display_name": "Python 3",
   "language": "python",
   "name": "python3"
  },
  "language_info": {
   "codemirror_mode": {
    "name": "ipython",
    "version": 3
   },
   "file_extension": ".py",
   "mimetype": "text/x-python",
   "name": "python",
   "nbconvert_exporter": "python",
   "pygments_lexer": "ipython3",
   "version": "3.7.6"
  }
 },
 "nbformat": 4,
 "nbformat_minor": 4
}
